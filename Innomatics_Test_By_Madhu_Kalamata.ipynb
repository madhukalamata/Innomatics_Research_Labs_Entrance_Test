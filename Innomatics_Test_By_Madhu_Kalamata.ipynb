{
 "cells": [
  {
   "cell_type": "markdown",
   "id": "cad9e035",
   "metadata": {},
   "source": [
    "# Innomatics Data Science Internship Entrance Test\n",
    "                                                                                     - By Kalamata Madhu "
   ]
  },
  {
   "cell_type": "markdown",
   "id": "9e85efd4",
   "metadata": {},
   "source": [
    "###  Importing all the required libraries   "
   ]
  },
  {
   "cell_type": "code",
   "execution_count": 1,
   "id": "69f04534",
   "metadata": {},
   "outputs": [],
   "source": [
    "import pandas as pd \n",
    "import matplotlib.pyplot as plt"
   ]
  },
  {
   "cell_type": "markdown",
   "id": "6aeeb941",
   "metadata": {},
   "source": [
    "### Loading all the Datasets "
   ]
  },
  {
   "cell_type": "code",
   "execution_count": 2,
   "id": "2a6d285f",
   "metadata": {},
   "outputs": [],
   "source": [
    "\n",
    "links_data = pd.read_csv('links.csv')\n",
    "movies_data = pd.read_csv('movies.csv')\n",
    "ratings_data = pd.read_csv('ratings.csv')\n",
    "tags_data = pd.read_csv('tags.csv')"
   ]
  },
  {
   "cell_type": "markdown",
   "id": "a262c6f6",
   "metadata": {},
   "source": [
    "### Question 2 : Getting the shape of the movies.csv file "
   ]
  },
  {
   "cell_type": "code",
   "execution_count": 3,
   "id": "89fc9557",
   "metadata": {},
   "outputs": [
    {
     "data": {
      "text/plain": [
       "(9742, 3)"
      ]
     },
     "execution_count": 3,
     "metadata": {},
     "output_type": "execute_result"
    }
   ],
   "source": [
    "# By using shape function\n",
    "movies_data.shape"
   ]
  },
  {
   "cell_type": "markdown",
   "id": "5edc2c1e",
   "metadata": {},
   "source": [
    "### Question 3 : Getting the shape of 'ratings.csv' file  "
   ]
  },
  {
   "cell_type": "code",
   "execution_count": 4,
   "id": "0109b09c",
   "metadata": {},
   "outputs": [
    {
     "data": {
      "text/plain": [
       "(100836, 4)"
      ]
     },
     "execution_count": 4,
     "metadata": {},
     "output_type": "execute_result"
    }
   ],
   "source": [
    "ratings_data.shape"
   ]
  },
  {
   "cell_type": "markdown",
   "id": "dba8092a",
   "metadata": {},
   "source": [
    "### Question 4 : Getting the number of unique 'userId' from 'ratings_data'  "
   ]
  },
  {
   "cell_type": "code",
   "execution_count": 5,
   "id": "cb75264f",
   "metadata": {},
   "outputs": [
    {
     "data": {
      "text/plain": [
       "610"
      ]
     },
     "execution_count": 5,
     "metadata": {},
     "output_type": "execute_result"
    }
   ],
   "source": [
    "# By using nunique() function \n",
    "\n",
    "unique_users = ratings_data['userId'].nunique()\n",
    "\n",
    "unique_users"
   ]
  },
  {
   "cell_type": "markdown",
   "id": "0907773b",
   "metadata": {},
   "source": [
    "### Question 5 : Getting the movie which has recieved max num of user ratings  "
   ]
  },
  {
   "cell_type": "code",
   "execution_count": 6,
   "id": "fa534954",
   "metadata": {},
   "outputs": [
    {
     "name": "stdout",
     "output_type": "stream",
     "text": [
      "Movie with the maximum number of ratings: Forrest Gump (1994)\n",
      "Movie ID with the maximum number of ratings: 356\n"
     ]
    }
   ],
   "source": [
    "# Grouping the ratings by movieId and counting the number of ratings for each movie\n",
    "movie_rating_counts = ratings_data.groupby('movieId').size()\n",
    "\n",
    "# Finding the movie with the maximum number of ratings\n",
    "max_rated_movie_id = movie_rating_counts.idxmax()\n",
    "\n",
    "# Finding the title of the movie with the maximum number of ratings\n",
    "max_rated_movie_title = movies_data[movies_data['movieId'] == max_rated_movie_id]['title'].iloc[0]\n",
    "\n",
    "print(\"Movie with the maximum number of ratings:\", max_rated_movie_title)\n",
    "print(\"Movie ID with the maximum number of ratings:\", max_rated_movie_id)\n"
   ]
  },
  {
   "cell_type": "markdown",
   "id": "e9bf9a18",
   "metadata": {},
   "source": [
    "### Question 6 : Getting all the correct tags submitted by users to \"Matrix, The (1999)\" movie  "
   ]
  },
  {
   "cell_type": "code",
   "execution_count": 7,
   "id": "b2c49c48",
   "metadata": {},
   "outputs": [
    {
     "name": "stdout",
     "output_type": "stream",
     "text": [
      "Tags for 'Matrix, The (1999)':\n",
      "['martial arts' 'sci-fi' 'alternate universe' 'philosophy'\n",
      " 'post apocalyptic']\n"
     ]
    }
   ],
   "source": [
    "# Finding the movieId for \"Matrix, The (1999)\"\n",
    "\n",
    "matrix_movie = movies_data[movies_data['title'] == 'Matrix, The (1999)']\n",
    "matrix_movie_id = matrix_movie['movieId'].values[0]\n",
    "\n",
    "# Filtering tags for the movie with its movieId\n",
    "matrix_tags = tags_data[tags_data['movieId'] == matrix_movie_id]\n",
    "\n",
    "# Displaying unique tags for the movie\n",
    "unique_tags = matrix_tags['tag'].unique()\n",
    "print(\"Tags for 'Matrix, The (1999)':\")\n",
    "print(unique_tags)"
   ]
  },
  {
   "cell_type": "markdown",
   "id": "c07688b6",
   "metadata": {},
   "source": [
    "### Question 7 : Getting the avg user rating for the movie named \"Terminator 2: Judgment Day (1991)\" "
   ]
  },
  {
   "cell_type": "code",
   "execution_count": 8,
   "id": "86983adf",
   "metadata": {},
   "outputs": [
    {
     "name": "stdout",
     "output_type": "stream",
     "text": [
      "Average user rating for 'Terminator 2: Judgment Day (1991)': 3.97\n"
     ]
    }
   ],
   "source": [
    "# Finding the movieId for \"Terminator 2: Judgment Day (1991)\"\n",
    "terminator_movie = movies_data[movies_data['title'] == 'Terminator 2: Judgment Day (1991)']\n",
    "\n",
    "if not terminator_movie.empty:\n",
    "    terminator_movie_id = terminator_movie.iloc[0]['movieId']\n",
    "\n",
    "    # Calculating the average user rating for the movie\n",
    "    average_rating = ratings_data[ratings_data['movieId'] == terminator_movie_id]['rating'].mean()\n",
    "    \n",
    "    print(f\"Average user rating for 'Terminator 2: Judgment Day (1991)': {average_rating:.2f}\")\n",
    "else:\n",
    "    print(\"Movie not found\")"
   ]
  },
  {
   "cell_type": "markdown",
   "id": "e3c8a80e",
   "metadata": {},
   "source": [
    "### Question 8 :  Getting the data distribution of user ratings for \"Fight Club (1999)\" movie"
   ]
  },
  {
   "cell_type": "code",
   "execution_count": 9,
   "id": "1246814a",
   "metadata": {},
   "outputs": [
    {
     "data": {
      "image/png": "[encoded data removed]",
      "text/plain": [
       "<Figure size 640x480 with 1 Axes>"
      ]
     },
     "metadata": {},
     "output_type": "display_data"
    }
   ],
   "source": [
    "# Finding the movieId for \"Fight Club (1999)\"\n",
    "fight_club_movie = movies_data[movies_data['title'] == 'Fight Club (1999)']\n",
    "\n",
    "if not fight_club_movie.empty:\n",
    "    fight_club_movie_id = fight_club_movie.iloc[0]['movieId']\n",
    "\n",
    "    # Filtering ratings for the movie\n",
    "    fight_club_ratings = ratings_data[ratings_data['movieId'] == fight_club_movie_id]['rating']\n",
    "\n",
    "    # Plotting the histogram of user ratings for \"Fight Club (1999)\"\n",
    "    plt.hist(fight_club_ratings, bins=10, edgecolor='black')\n",
    "    plt.xlabel('Rating')\n",
    "    plt.ylabel('Frequency')\n",
    "    plt.title('User Ratings Distribution for Fight Club (1999)')\n",
    "    plt.show()\n",
    "else:\n",
    "    print(\"Movie not found\")"
   ]
  },
  {
   "cell_type": "markdown",
   "id": "b23cf17c",
   "metadata": {},
   "source": [
    "- The above distribution exhibits **left-skewness**. A left-skewed distribution means that most of the data points are on the right side, and the tail extends towards the left"
   ]
  },
  {
   "cell_type": "markdown",
   "id": "261fa8bc",
   "metadata": {},
   "source": [
    "## Creating a Filtered Dataset using the mentioned Mandatory Operations by solving the futher questions "
   ]
  },
  {
   "cell_type": "code",
   "execution_count": 10,
   "id": "f8f61ba8",
   "metadata": {},
   "outputs": [
    {
     "data": {
      "text/html": [
       "<div>\n",
       "<style scoped>\n",
       "    .dataframe tbody tr th:only-of-type {\n",
       "        vertical-align: middle;\n",
       "    }\n",
       "\n",
       "    .dataframe tbody tr th {\n",
       "        vertical-align: top;\n",
       "    }\n",
       "\n",
       "    .dataframe thead th {\n",
       "        text-align: right;\n",
       "    }\n",
       "</style>\n",
       "<table border=\"1\" class=\"dataframe\">\n",
       "  <thead>\n",
       "    <tr style=\"text-align: right;\">\n",
       "      <th></th>\n",
       "      <th>movieId</th>\n",
       "      <th>title</th>\n",
       "      <th>genres</th>\n",
       "      <th>rating_count</th>\n",
       "      <th>rating_mean</th>\n",
       "    </tr>\n",
       "  </thead>\n",
       "  <tbody>\n",
       "    <tr>\n",
       "      <th>0</th>\n",
       "      <td>1</td>\n",
       "      <td>Toy Story (1995)</td>\n",
       "      <td>Adventure|Animation|Children|Comedy|Fantasy</td>\n",
       "      <td>215</td>\n",
       "      <td>3.920930</td>\n",
       "    </tr>\n",
       "    <tr>\n",
       "      <th>1</th>\n",
       "      <td>2</td>\n",
       "      <td>Jumanji (1995)</td>\n",
       "      <td>Adventure|Children|Fantasy</td>\n",
       "      <td>110</td>\n",
       "      <td>3.431818</td>\n",
       "    </tr>\n",
       "    <tr>\n",
       "      <th>2</th>\n",
       "      <td>3</td>\n",
       "      <td>Grumpier Old Men (1995)</td>\n",
       "      <td>Comedy|Romance</td>\n",
       "      <td>52</td>\n",
       "      <td>3.259615</td>\n",
       "    </tr>\n",
       "    <tr>\n",
       "      <th>5</th>\n",
       "      <td>6</td>\n",
       "      <td>Heat (1995)</td>\n",
       "      <td>Action|Crime|Thriller</td>\n",
       "      <td>102</td>\n",
       "      <td>3.946078</td>\n",
       "    </tr>\n",
       "    <tr>\n",
       "      <th>6</th>\n",
       "      <td>7</td>\n",
       "      <td>Sabrina (1995)</td>\n",
       "      <td>Comedy|Romance</td>\n",
       "      <td>54</td>\n",
       "      <td>3.185185</td>\n",
       "    </tr>\n",
       "  </tbody>\n",
       "</table>\n",
       "</div>"
      ],
      "text/plain": [
       "   movieId                    title  \\\n",
       "0        1         Toy Story (1995)   \n",
       "1        2           Jumanji (1995)   \n",
       "2        3  Grumpier Old Men (1995)   \n",
       "5        6              Heat (1995)   \n",
       "6        7           Sabrina (1995)   \n",
       "\n",
       "                                        genres  rating_count  rating_mean  \n",
       "0  Adventure|Animation|Children|Comedy|Fantasy           215     3.920930  \n",
       "1                   Adventure|Children|Fantasy           110     3.431818  \n",
       "2                               Comedy|Romance            52     3.259615  \n",
       "5                        Action|Crime|Thriller           102     3.946078  \n",
       "6                               Comedy|Romance            54     3.185185  "
      ]
     },
     "execution_count": 10,
     "metadata": {},
     "output_type": "execute_result"
    }
   ],
   "source": [
    "# Grouping user ratings by movieId and apply count and mean operations\n",
    "grouped_ratings = ratings_data.groupby('movieId')['rating'].agg(['count', 'mean']).reset_index()\n",
    "\n",
    "# Renaming columns for clarity\n",
    "grouped_ratings.columns = ['movieId', 'rating_count', 'rating_mean']\n",
    "\n",
    "# Merging movies data with grouped ratings using inner join\n",
    "merged_data = pd.merge(movies_data, grouped_ratings, on='movieId', how='inner')\n",
    "\n",
    "# Filtering movies with more than 50 user ratings\n",
    "filtered_data = merged_data[merged_data['rating_count'] > 50]\n",
    "\n",
    "# Displaying the resulting dataset\n",
    "filtered_data.head()"
   ]
  },
  {
   "cell_type": "markdown",
   "id": "735ea325",
   "metadata": {},
   "source": [
    "### Question 9 : Getting the most popular movie based on the avg user rating  "
   ]
  },
  {
   "cell_type": "code",
   "execution_count": 11,
   "id": "c911519d",
   "metadata": {},
   "outputs": [
    {
     "name": "stdout",
     "output_type": "stream",
     "text": [
      "Most popular movie based on average user ratings:\n",
      "Title: Shawshank Redemption, The (1994)\n",
      "Average Rating: 4.429022082018927\n"
     ]
    }
   ],
   "source": [
    "# Sorting the filtered dataset by 'rating_mean' in descending order\n",
    "sorted_data = filtered_data.sort_values(by='rating_mean', ascending=False)\n",
    "\n",
    "# Getting the most popular movie (highest average rating)\n",
    "most_popular_movie = sorted_data.iloc[0]\n",
    "\n",
    "print(\"Most popular movie based on average user ratings:\")\n",
    "print(\"Title:\", most_popular_movie['title'])\n",
    "print(\"Average Rating:\", most_popular_movie['rating_mean'])"
   ]
  },
  {
   "cell_type": "markdown",
   "id": "f7bd3d6e",
   "metadata": {},
   "source": [
    "### Question 10 : Getting the top 5 popular movies based on the number of user ratings  "
   ]
  },
  {
   "cell_type": "code",
   "execution_count": 12,
   "id": "33d95d12",
   "metadata": {},
   "outputs": [
    {
     "name": "stdout",
     "output_type": "stream",
     "text": [
      "Top 5 popular movies based on number of user ratings:\n",
      "                                 title  rating_count\n",
      "314                Forrest Gump (1994)           329\n",
      "277   Shawshank Redemption, The (1994)           317\n",
      "257                Pulp Fiction (1994)           307\n",
      "510   Silence of the Lambs, The (1991)           279\n",
      "1938                Matrix, The (1999)           278\n"
     ]
    }
   ],
   "source": [
    "# Sorting the filtered dataset by 'rating_count' in descending order\n",
    "sorted_by_ratings_count = filtered_data.sort_values(by='rating_count', ascending=False)\n",
    "\n",
    "# Getting the top 5 popular movies based on number of user ratings\n",
    "top_5_popular_movies = sorted_by_ratings_count.head(5)\n",
    "\n",
    "# Displaying the titles of the top 5 popular movies\n",
    "print(\"Top 5 popular movies based on number of user ratings:\")\n",
    "print(top_5_popular_movies[['title', 'rating_count']])"
   ]
  },
  {
   "cell_type": "markdown",
   "id": "fdac1472",
   "metadata": {},
   "source": [
    "### Question 11 : Getting the 3rd most popular Sci-Fi movie based on the number of user ratings  "
   ]
  },
  {
   "cell_type": "code",
   "execution_count": 13,
   "id": "c4079dcb",
   "metadata": {},
   "outputs": [
    {
     "name": "stdout",
     "output_type": "stream",
     "text": [
      "Third most popular Sci-Fi movie based on number of user ratings:\n",
      "Title: Jurassic Park (1993)\n",
      "Number of User Ratings: 238\n"
     ]
    }
   ],
   "source": [
    "# Filtering the dataset for Sci-Fi movies\n",
    "sci_fi_movies = filtered_data[filtered_data['genres'].str.contains('Sci-Fi')]\n",
    "\n",
    "# Sorting the Sci-Fi movies by 'rating_count' in descending order\n",
    "sorted_sci_fi_by_ratings = sci_fi_movies.sort_values(by='rating_count', ascending=False)\n",
    "\n",
    "# Getting the third most popular Sci-Fi movie based on number of user ratings\n",
    "third_most_popular_sci_fi = sorted_sci_fi_by_ratings.iloc[2]  # Index 2 for the third movie (0-indexed)\n",
    "\n",
    "print(\"Third most popular Sci-Fi movie based on number of user ratings:\")\n",
    "print(\"Title:\", third_most_popular_sci_fi['title'])\n",
    "print(\"Number of User Ratings:\", third_most_popular_sci_fi['rating_count'])"
   ]
  },
  {
   "cell_type": "markdown",
   "id": "1921e094",
   "metadata": {},
   "source": [
    "### Performing WebScraping for getting the IMDB Reviews columns in the filtered dataset "
   ]
  },
  {
   "cell_type": "code",
   "execution_count": 14,
   "id": "2f7c5bee",
   "metadata": {
    "scrolled": true
   },
   "outputs": [
    {
     "data": {
      "text/html": [
       "<div>\n",
       "<style scoped>\n",
       "    .dataframe tbody tr th:only-of-type {\n",
       "        vertical-align: middle;\n",
       "    }\n",
       "\n",
       "    .dataframe tbody tr th {\n",
       "        vertical-align: top;\n",
       "    }\n",
       "\n",
       "    .dataframe thead th {\n",
       "        text-align: right;\n",
       "    }\n",
       "</style>\n",
       "<table border=\"1\" class=\"dataframe\">\n",
       "  <thead>\n",
       "    <tr style=\"text-align: right;\">\n",
       "      <th></th>\n",
       "      <th>movieId</th>\n",
       "      <th>title</th>\n",
       "      <th>genres</th>\n",
       "      <th>rating_count</th>\n",
       "      <th>rating_mean</th>\n",
       "      <th>imdbId</th>\n",
       "    </tr>\n",
       "  </thead>\n",
       "  <tbody>\n",
       "    <tr>\n",
       "      <th>0</th>\n",
       "      <td>1</td>\n",
       "      <td>Toy Story (1995)</td>\n",
       "      <td>Adventure|Animation|Children|Comedy|Fantasy</td>\n",
       "      <td>215</td>\n",
       "      <td>3.920930</td>\n",
       "      <td>114709</td>\n",
       "    </tr>\n",
       "    <tr>\n",
       "      <th>1</th>\n",
       "      <td>2</td>\n",
       "      <td>Jumanji (1995)</td>\n",
       "      <td>Adventure|Children|Fantasy</td>\n",
       "      <td>110</td>\n",
       "      <td>3.431818</td>\n",
       "      <td>113497</td>\n",
       "    </tr>\n",
       "    <tr>\n",
       "      <th>2</th>\n",
       "      <td>3</td>\n",
       "      <td>Grumpier Old Men (1995)</td>\n",
       "      <td>Comedy|Romance</td>\n",
       "      <td>52</td>\n",
       "      <td>3.259615</td>\n",
       "      <td>113228</td>\n",
       "    </tr>\n",
       "    <tr>\n",
       "      <th>3</th>\n",
       "      <td>6</td>\n",
       "      <td>Heat (1995)</td>\n",
       "      <td>Action|Crime|Thriller</td>\n",
       "      <td>102</td>\n",
       "      <td>3.946078</td>\n",
       "      <td>113277</td>\n",
       "    </tr>\n",
       "    <tr>\n",
       "      <th>4</th>\n",
       "      <td>7</td>\n",
       "      <td>Sabrina (1995)</td>\n",
       "      <td>Comedy|Romance</td>\n",
       "      <td>54</td>\n",
       "      <td>3.185185</td>\n",
       "      <td>114319</td>\n",
       "    </tr>\n",
       "  </tbody>\n",
       "</table>\n",
       "</div>"
      ],
      "text/plain": [
       "   movieId                    title  \\\n",
       "0        1         Toy Story (1995)   \n",
       "1        2           Jumanji (1995)   \n",
       "2        3  Grumpier Old Men (1995)   \n",
       "3        6              Heat (1995)   \n",
       "4        7           Sabrina (1995)   \n",
       "\n",
       "                                        genres  rating_count  rating_mean  \\\n",
       "0  Adventure|Animation|Children|Comedy|Fantasy           215     3.920930   \n",
       "1                   Adventure|Children|Fantasy           110     3.431818   \n",
       "2                               Comedy|Romance            52     3.259615   \n",
       "3                        Action|Crime|Thriller           102     3.946078   \n",
       "4                               Comedy|Romance            54     3.185185   \n",
       "\n",
       "   imdbId  \n",
       "0  114709  \n",
       "1  113497  \n",
       "2  113228  \n",
       "3  113277  \n",
       "4  114319  "
      ]
     },
     "execution_count": 14,
     "metadata": {},
     "output_type": "execute_result"
    }
   ],
   "source": [
    "# First we merged our filtered_data with the 'imdbId' col of the links_data \n",
    "\n",
    "# Merge filtered_data with links_data\n",
    "filtered_data_with_imdb = pd.merge(filtered_data, links_data[['movieId', 'imdbId']], on='movieId', how='left')\n",
    "\n",
    "# Display the resulting dataset with the new 'imdbId' column\n",
    "filtered_data_with_imdb.head()"
   ]
  },
  {
   "cell_type": "code",
   "execution_count": 15,
   "id": "dfbdb825",
   "metadata": {},
   "outputs": [],
   "source": [
    "import requests\n",
    "import numpy as np\n",
    "from bs4 import BeautifulSoup  \n",
    "def scrapper(imdbId):\n",
    "    id = str(int(imdbId))\n",
    "    n_zeroes = 7 - len(id)\n",
    "    new_id = \"0\"*n_zeroes + id\n",
    "    URL = f\"https://www.imdb.com/title/tt{new_id}/\"\n",
    "    request_header = {'Content-Type': 'text/html; charset=UTF-8', \n",
    "                      'User-Agent': 'Mozilla/5.0 (Windows NT 10.0; Win64; x64; rv:109.0) Gecko/20100101 Firefox/119.0', \n",
    "                      'Accept-Encoding': 'gzip, deflate, br'}\n",
    "    response = requests.get(URL, headers=request_header)  \n",
    "    soup = BeautifulSoup(response.text, 'html.parser')  \n",
    "    imdb_rating = soup.find('span', {'itemprop': 'ratingValue'})  \n",
    "    return imdb_rating.text if imdb_rating else np.nan\n"
   ]
  },
  {
   "cell_type": "markdown",
   "id": "b0f2130b",
   "metadata": {},
   "source": [
    "Since this method is generating an error, let's attempt a different approach."
   ]
  },
  {
   "cell_type": "markdown",
   "id": "04e0b55c",
   "metadata": {},
   "source": [
    "* We'll bring in the IMDB Dataset and conduct data cleaning to retain the necessary columns only."
   ]
  },
  {
   "cell_type": "code",
   "execution_count": 19,
   "id": "868bc76c",
   "metadata": {},
   "outputs": [
    {
     "data": {
      "text/html": [
       "<div>\n",
       "<style scoped>\n",
       "    .dataframe tbody tr th:only-of-type {\n",
       "        vertical-align: middle;\n",
       "    }\n",
       "\n",
       "    .dataframe tbody tr th {\n",
       "        vertical-align: top;\n",
       "    }\n",
       "\n",
       "    .dataframe thead th {\n",
       "        text-align: right;\n",
       "    }\n",
       "</style>\n",
       "<table border=\"1\" class=\"dataframe\">\n",
       "  <thead>\n",
       "    <tr style=\"text-align: right;\">\n",
       "      <th></th>\n",
       "      <th>Poster_Link</th>\n",
       "      <th>Series_Title</th>\n",
       "      <th>Released_Year</th>\n",
       "      <th>Certificate</th>\n",
       "      <th>Runtime</th>\n",
       "      <th>Genre</th>\n",
       "      <th>IMDB_Rating</th>\n",
       "      <th>Overview</th>\n",
       "      <th>Meta_score</th>\n",
       "      <th>Director</th>\n",
       "      <th>Star1</th>\n",
       "      <th>Star2</th>\n",
       "      <th>Star3</th>\n",
       "      <th>Star4</th>\n",
       "      <th>No_of_Votes</th>\n",
       "      <th>Gross</th>\n",
       "    </tr>\n",
       "  </thead>\n",
       "  <tbody>\n",
       "    <tr>\n",
       "      <th>0</th>\n",
       "      <td>https://m.media-amazon.com/images/M/MV5BMDFkYT...</td>\n",
       "      <td>The Shawshank Redemption</td>\n",
       "      <td>1994</td>\n",
       "      <td>A</td>\n",
       "      <td>142 min</td>\n",
       "      <td>Drama</td>\n",
       "      <td>9.3</td>\n",
       "      <td>Two imprisoned men bond over a number of years...</td>\n",
       "      <td>80.0</td>\n",
       "      <td>Frank Darabont</td>\n",
       "      <td>Tim Robbins</td>\n",
       "      <td>Morgan Freeman</td>\n",
       "      <td>Bob Gunton</td>\n",
       "      <td>William Sadler</td>\n",
       "      <td>2343110</td>\n",
       "      <td>28,341,469</td>\n",
       "    </tr>\n",
       "    <tr>\n",
       "      <th>1</th>\n",
       "      <td>https://m.media-amazon.com/images/M/MV5BM2MyNj...</td>\n",
       "      <td>The Godfather</td>\n",
       "      <td>1972</td>\n",
       "      <td>A</td>\n",
       "      <td>175 min</td>\n",
       "      <td>Crime, Drama</td>\n",
       "      <td>9.2</td>\n",
       "      <td>An organized crime dynasty's aging patriarch t...</td>\n",
       "      <td>100.0</td>\n",
       "      <td>Francis Ford Coppola</td>\n",
       "      <td>Marlon Brando</td>\n",
       "      <td>Al Pacino</td>\n",
       "      <td>James Caan</td>\n",
       "      <td>Diane Keaton</td>\n",
       "      <td>1620367</td>\n",
       "      <td>134,966,411</td>\n",
       "    </tr>\n",
       "    <tr>\n",
       "      <th>2</th>\n",
       "      <td>https://m.media-amazon.com/images/M/MV5BMTMxNT...</td>\n",
       "      <td>The Dark Knight</td>\n",
       "      <td>2008</td>\n",
       "      <td>UA</td>\n",
       "      <td>152 min</td>\n",
       "      <td>Action, Crime, Drama</td>\n",
       "      <td>9.0</td>\n",
       "      <td>When the menace known as the Joker wreaks havo...</td>\n",
       "      <td>84.0</td>\n",
       "      <td>Christopher Nolan</td>\n",
       "      <td>Christian Bale</td>\n",
       "      <td>Heath Ledger</td>\n",
       "      <td>Aaron Eckhart</td>\n",
       "      <td>Michael Caine</td>\n",
       "      <td>2303232</td>\n",
       "      <td>534,858,444</td>\n",
       "    </tr>\n",
       "    <tr>\n",
       "      <th>3</th>\n",
       "      <td>https://m.media-amazon.com/images/M/MV5BMWMwMG...</td>\n",
       "      <td>The Godfather: Part II</td>\n",
       "      <td>1974</td>\n",
       "      <td>A</td>\n",
       "      <td>202 min</td>\n",
       "      <td>Crime, Drama</td>\n",
       "      <td>9.0</td>\n",
       "      <td>The early life and career of Vito Corleone in ...</td>\n",
       "      <td>90.0</td>\n",
       "      <td>Francis Ford Coppola</td>\n",
       "      <td>Al Pacino</td>\n",
       "      <td>Robert De Niro</td>\n",
       "      <td>Robert Duvall</td>\n",
       "      <td>Diane Keaton</td>\n",
       "      <td>1129952</td>\n",
       "      <td>57,300,000</td>\n",
       "    </tr>\n",
       "    <tr>\n",
       "      <th>4</th>\n",
       "      <td>https://m.media-amazon.com/images/M/MV5BMWU4N2...</td>\n",
       "      <td>12 Angry Men</td>\n",
       "      <td>1957</td>\n",
       "      <td>U</td>\n",
       "      <td>96 min</td>\n",
       "      <td>Crime, Drama</td>\n",
       "      <td>9.0</td>\n",
       "      <td>A jury holdout attempts to prevent a miscarria...</td>\n",
       "      <td>96.0</td>\n",
       "      <td>Sidney Lumet</td>\n",
       "      <td>Henry Fonda</td>\n",
       "      <td>Lee J. Cobb</td>\n",
       "      <td>Martin Balsam</td>\n",
       "      <td>John Fiedler</td>\n",
       "      <td>689845</td>\n",
       "      <td>4,360,000</td>\n",
       "    </tr>\n",
       "  </tbody>\n",
       "</table>\n",
       "</div>"
      ],
      "text/plain": [
       "                                         Poster_Link  \\\n",
       "0  https://m.media-amazon.com/images/M/MV5BMDFkYT...   \n",
       "1  https://m.media-amazon.com/images/M/MV5BM2MyNj...   \n",
       "2  https://m.media-amazon.com/images/M/MV5BMTMxNT...   \n",
       "3  https://m.media-amazon.com/images/M/MV5BMWMwMG...   \n",
       "4  https://m.media-amazon.com/images/M/MV5BMWU4N2...   \n",
       "\n",
       "               Series_Title Released_Year Certificate  Runtime  \\\n",
       "0  The Shawshank Redemption          1994           A  142 min   \n",
       "1             The Godfather          1972           A  175 min   \n",
       "2           The Dark Knight          2008          UA  152 min   \n",
       "3    The Godfather: Part II          1974           A  202 min   \n",
       "4              12 Angry Men          1957           U   96 min   \n",
       "\n",
       "                  Genre  IMDB_Rating  \\\n",
       "0                 Drama          9.3   \n",
       "1          Crime, Drama          9.2   \n",
       "2  Action, Crime, Drama          9.0   \n",
       "3          Crime, Drama          9.0   \n",
       "4          Crime, Drama          9.0   \n",
       "\n",
       "                                            Overview  Meta_score  \\\n",
       "0  Two imprisoned men bond over a number of years...        80.0   \n",
       "1  An organized crime dynasty's aging patriarch t...       100.0   \n",
       "2  When the menace known as the Joker wreaks havo...        84.0   \n",
       "3  The early life and career of Vito Corleone in ...        90.0   \n",
       "4  A jury holdout attempts to prevent a miscarria...        96.0   \n",
       "\n",
       "               Director           Star1           Star2          Star3  \\\n",
       "0        Frank Darabont     Tim Robbins  Morgan Freeman     Bob Gunton   \n",
       "1  Francis Ford Coppola   Marlon Brando       Al Pacino     James Caan   \n",
       "2     Christopher Nolan  Christian Bale    Heath Ledger  Aaron Eckhart   \n",
       "3  Francis Ford Coppola       Al Pacino  Robert De Niro  Robert Duvall   \n",
       "4          Sidney Lumet     Henry Fonda     Lee J. Cobb  Martin Balsam   \n",
       "\n",
       "            Star4  No_of_Votes        Gross  \n",
       "0  William Sadler      2343110   28,341,469  \n",
       "1    Diane Keaton      1620367  134,966,411  \n",
       "2   Michael Caine      2303232  534,858,444  \n",
       "3    Diane Keaton      1129952   57,300,000  \n",
       "4    John Fiedler       689845    4,360,000  "
      ]
     },
     "execution_count": 19,
     "metadata": {},
     "output_type": "execute_result"
    }
   ],
   "source": [
    "# Reading the imdb dataset \n",
    "\n",
    "imdb = pd.read_csv('imdb.csv')\n",
    "\n",
    "imdb.head()"
   ]
  },
  {
   "cell_type": "code",
   "execution_count": 20,
   "id": "5cde062e",
   "metadata": {},
   "outputs": [
    {
     "data": {
      "text/plain": [
       "Index(['Poster_Link', 'Series_Title', 'Released_Year', 'Certificate',\n",
       "       'Runtime', 'Genre', 'IMDB_Rating', 'Overview', 'Meta_score', 'Director',\n",
       "       'Star1', 'Star2', 'Star3', 'Star4', 'No_of_Votes', 'Gross'],\n",
       "      dtype='object')"
      ]
     },
     "execution_count": 20,
     "metadata": {},
     "output_type": "execute_result"
    }
   ],
   "source": [
    "# Displaying the columns present in the above dataset \n",
    "\n",
    "imdb.columns"
   ]
  },
  {
   "cell_type": "markdown",
   "id": "748f4668",
   "metadata": {},
   "source": [
    "- For solving the remaning questions we only need **'Series_Title'**, **'Genre'**, and **'IMDB_RATING'** columns "
   ]
  },
  {
   "cell_type": "code",
   "execution_count": 25,
   "id": "9f7a1f25",
   "metadata": {},
   "outputs": [
    {
     "data": {
      "text/html": [
       "<div>\n",
       "<style scoped>\n",
       "    .dataframe tbody tr th:only-of-type {\n",
       "        vertical-align: middle;\n",
       "    }\n",
       "\n",
       "    .dataframe tbody tr th {\n",
       "        vertical-align: top;\n",
       "    }\n",
       "\n",
       "    .dataframe thead th {\n",
       "        text-align: right;\n",
       "    }\n",
       "</style>\n",
       "<table border=\"1\" class=\"dataframe\">\n",
       "  <thead>\n",
       "    <tr style=\"text-align: right;\">\n",
       "      <th></th>\n",
       "      <th>Series_Title</th>\n",
       "      <th>Genre</th>\n",
       "      <th>IMDB_Rating</th>\n",
       "    </tr>\n",
       "  </thead>\n",
       "  <tbody>\n",
       "    <tr>\n",
       "      <th>0</th>\n",
       "      <td>The Shawshank Redemption</td>\n",
       "      <td>Drama</td>\n",
       "      <td>9.3</td>\n",
       "    </tr>\n",
       "    <tr>\n",
       "      <th>1</th>\n",
       "      <td>The Godfather</td>\n",
       "      <td>Crime, Drama</td>\n",
       "      <td>9.2</td>\n",
       "    </tr>\n",
       "    <tr>\n",
       "      <th>2</th>\n",
       "      <td>The Dark Knight</td>\n",
       "      <td>Action, Crime, Drama</td>\n",
       "      <td>9.0</td>\n",
       "    </tr>\n",
       "    <tr>\n",
       "      <th>3</th>\n",
       "      <td>The Godfather: Part II</td>\n",
       "      <td>Crime, Drama</td>\n",
       "      <td>9.0</td>\n",
       "    </tr>\n",
       "    <tr>\n",
       "      <th>4</th>\n",
       "      <td>12 Angry Men</td>\n",
       "      <td>Crime, Drama</td>\n",
       "      <td>9.0</td>\n",
       "    </tr>\n",
       "  </tbody>\n",
       "</table>\n",
       "</div>"
      ],
      "text/plain": [
       "               Series_Title                 Genre  IMDB_Rating\n",
       "0  The Shawshank Redemption                 Drama          9.3\n",
       "1             The Godfather          Crime, Drama          9.2\n",
       "2           The Dark Knight  Action, Crime, Drama          9.0\n",
       "3    The Godfather: Part II          Crime, Drama          9.0\n",
       "4              12 Angry Men          Crime, Drama          9.0"
      ]
     },
     "execution_count": 25,
     "metadata": {},
     "output_type": "execute_result"
    }
   ],
   "source": [
    "# Creating a new DataFrame with only the specified columns\n",
    "imdb_data_filtered = imdb[['Series_Title', 'Genre', 'IMDB_Rating']]\n",
    "\n",
    "# Displaying the filtered IMDb dataset\n",
    "imdb_data_filtered.head()"
   ]
  },
  {
   "cell_type": "markdown",
   "id": "67c91986",
   "metadata": {},
   "source": [
    "### Question 12 : Getting the 'movieId' of the movie which has the highest IMDB Rating  "
   ]
  },
  {
   "cell_type": "markdown",
   "id": "20b1f73f",
   "metadata": {},
   "source": [
    "- Approach :  We can get the highest IMDB Rating movie from  the 'imdb_data_filtered' dataset and corresponding find its 'movieId' from the 'filtered_data_with_imdb' dataset"
   ]
  },
  {
   "cell_type": "code",
   "execution_count": 36,
   "id": "f60d1b5e",
   "metadata": {},
   "outputs": [
    {
     "name": "stdout",
     "output_type": "stream",
     "text": [
      "The name of the movie with the highest rating (9.3):\n",
      "0    The Shawshank Redemption\n",
      "Name: Series_Title, dtype: object\n"
     ]
    }
   ],
   "source": [
    "highest_rating = imdb_data_filtered['IMDB_Rating'].max()\n",
    "highest_rated_movies = imdb_data_filtered[imdb_data_filtered['IMDB_Rating'] == highest_rating]\n",
    "\n",
    "\n",
    "highest_rated_movie_names = highest_rated_movies['Series_Title']\n",
    "\n",
    "print(f\"The name of the movie with the highest rating ({highest_rating}):\")\n",
    "print(highest_rated_movie_names)"
   ]
  },
  {
   "cell_type": "markdown",
   "id": "d2801169",
   "metadata": {},
   "source": [
    "- So, The Shawshank Redemption is the highest IMDB Rated movie\n",
    "\n",
    "Now, to gets its movieId from the movies_data dataset or filtered_data_with_imdb dataset"
   ]
  },
  {
   "cell_type": "code",
   "execution_count": 40,
   "id": "d0fe79d7",
   "metadata": {},
   "outputs": [
    {
     "name": "stdout",
     "output_type": "stream",
     "text": [
      "The 'movieId' of 'Shawshank Redemption, The (1994)' is: 318\n"
     ]
    }
   ],
   "source": [
    "movie_id_shawshank = filtered_data_with_imdb.loc[filtered_data_with_imdb['title'] == 'Shawshank Redemption, The (1994)', 'movieId'].values[0]\n",
    "\n",
    "print(f\"The 'movieId' of 'Shawshank Redemption, The (1994)' is: {movie_id_shawshank}\")\n"
   ]
  },
  {
   "cell_type": "markdown",
   "id": "062d4044",
   "metadata": {},
   "source": [
    "### Question 13 : Getting the 'movieId' of the 'Sci-Fi' movie which has the highest IMDB Rating  "
   ]
  },
  {
   "cell_type": "markdown",
   "id": "a7b4ce88",
   "metadata": {},
   "source": [
    "* Approach : We can get the highest IMDB Rating Sci-Fi movie from the 'imdb_data_filtered' dataset and corresponding find its 'movieId' from the 'filtered_data_with_imdb' dataset"
   ]
  },
  {
   "cell_type": "code",
   "execution_count": 43,
   "id": "41a19104",
   "metadata": {},
   "outputs": [
    {
     "name": "stdout",
     "output_type": "stream",
     "text": [
      "Highest-rated Sci-Fi movie:\n",
      "Inception\n"
     ]
    }
   ],
   "source": [
    "# Filtering the DataFrame for Sci-Fi genre\n",
    "sci_fi_movies = imdb_data_filtered[imdb_data_filtered['Genre'].str.contains('Sci-Fi', case=False)]\n",
    "\n",
    "# Finding the highest-rated Sci-Fi movie\n",
    "highest_rated_sci_fi_movie = sci_fi_movies.loc[sci_fi_movies['IMDB_Rating'].idxmax()]\n",
    "highest_rated_sci_fi_movie_title = highest_rated_sci_fi_movie['Series_Title']\n",
    "\n",
    "print(\"Highest-rated Sci-Fi movie:\")\n",
    "print(highest_rated_sci_fi_movie_title)\n"
   ]
  },
  {
   "cell_type": "markdown",
   "id": "ffef514e",
   "metadata": {},
   "source": [
    "* So, Inception is the highest IMDB Rated movie\n",
    "\n",
    "\n",
    "Now, to gets its movieId from the movies_data dataset or filtered_data_with_imdb dataset"
   ]
  },
  {
   "cell_type": "code",
   "execution_count": 49,
   "id": "d08637c3",
   "metadata": {},
   "outputs": [
    {
     "name": "stdout",
     "output_type": "stream",
     "text": [
      "The 'movieId' of 'Inception' is:  {79132}\n"
     ]
    }
   ],
   "source": [
    "movie_id_inception = filtered_data_with_imdb.loc[filtered_data_with_imdb['title'] == 'Inception (2010)', 'movieId'].values[0]\n",
    "\n",
    "print(f\"The 'movieId' of 'Inception' is: \",{movie_id_inception})\n"
   ]
  },
  {
   "cell_type": "markdown",
   "id": "c151067e",
   "metadata": {},
   "source": [
    "## Innomatics Data Science Internship |  Entrance Test Completed"
   ]
  },
  {
   "cell_type": "code",
   "execution_count": null,
   "id": "f4af6057-fcb7-4a15-b3c7-e70461b1e4bc",
   "metadata": {},
   "outputs": [],
   "source": []
  }
 ],
 "metadata": {
  "kernelspec": {
   "display_name": "Python 3 (ipykernel)",
   "language": "python",
   "name": "python3"
  },
  "language_info": {
   "codemirror_mode": {
    "name": "ipython",
    "version": 3
   },
   "file_extension": ".py",
   "mimetype": "text/x-python",
   "name": "python",
   "nbconvert_exporter": "python",
   "pygments_lexer": "ipython3",
   "version": "3.12.4"
  }
 },
 "nbformat": 4,
 "nbformat_minor": 5
}
